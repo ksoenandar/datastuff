{
 "metadata": {
  "language_info": {
   "codemirror_mode": {
    "name": "ipython",
    "version": 3
   },
   "file_extension": ".py",
   "mimetype": "text/x-python",
   "name": "python",
   "nbconvert_exporter": "python",
   "pygments_lexer": "ipython3",
   "version": "3.8.5-final"
  },
  "orig_nbformat": 2,
  "kernelspec": {
   "name": "python3",
   "display_name": "Python 3",
   "language": "python"
  }
 },
 "nbformat": 4,
 "nbformat_minor": 2,
 "cells": [
  {
   "source": [
    "# Titanic Survivor Predictions\n",
    "\n",
    "This project aims to predict the survival rate of Titanic passengers based on different factors (e.g. gender, socioeconomic status). The dataset is part of Kaggle's introduction to machine learning competition and can be downloaded <a href=\"https://www.kaggle.com/c/titanic/data?select=test.csv\">here</a>.\n",
    "\n",
    "This project serves as part of my machine learning journey and I will explore different aspects of amchine learning from data cleaning, feature engineering and model selection."
   ],
   "cell_type": "markdown",
   "metadata": {}
  },
  {
   "source": [
    "### 1. Dataset exploration and cleaning\n",
    "\n",
    "In this section, we will explore the dataset and clean it where needed to ensure it is ready to be fed into machine learning models."
   ],
   "cell_type": "markdown",
   "metadata": {}
  },
  {
   "cell_type": "code",
   "execution_count": 1,
   "metadata": {},
   "outputs": [],
   "source": [
    "# import all the required analysis modules minus model selection (we will import this later on)\n",
    "import pandas as pd\n",
    "import matplotlib.pyplot as plt\n",
    "import seaborn as sns\n",
    "%matplotlib inline\n",
    "plt.style.use(\"fivethirtyeight\")\n",
    "pd.set_option(\"display.max_columns\", None)"
   ]
  },
  {
   "cell_type": "code",
   "execution_count": 2,
   "metadata": {},
   "outputs": [],
   "source": [
    "# import both datasets \n",
    "train = pd.read_csv(\"train.csv\")\n",
    "test = pd.read_csv(\"test.csv\")"
   ]
  },
  {
   "cell_type": "code",
   "execution_count": 3,
   "metadata": {},
   "outputs": [
    {
     "output_type": "stream",
     "name": "stdout",
     "text": [
      "<class 'pandas.core.frame.DataFrame'>\nRangeIndex: 891 entries, 0 to 890\nData columns (total 12 columns):\n #   Column       Non-Null Count  Dtype  \n---  ------       --------------  -----  \n 0   PassengerId  891 non-null    int64  \n 1   Survived     891 non-null    int64  \n 2   Pclass       891 non-null    int64  \n 3   Name         891 non-null    object \n 4   Sex          891 non-null    object \n 5   Age          714 non-null    float64\n 6   SibSp        891 non-null    int64  \n 7   Parch        891 non-null    int64  \n 8   Ticket       891 non-null    object \n 9   Fare         891 non-null    float64\n 10  Cabin        204 non-null    object \n 11  Embarked     889 non-null    object \ndtypes: float64(2), int64(5), object(5)\nmemory usage: 83.7+ KB\nNone\n<class 'pandas.core.frame.DataFrame'>\nRangeIndex: 418 entries, 0 to 417\nData columns (total 11 columns):\n #   Column       Non-Null Count  Dtype  \n---  ------       --------------  -----  \n 0   PassengerId  418 non-null    int64  \n 1   Pclass       418 non-null    int64  \n 2   Name         418 non-null    object \n 3   Sex          418 non-null    object \n 4   Age          332 non-null    float64\n 5   SibSp        418 non-null    int64  \n 6   Parch        418 non-null    int64  \n 7   Ticket       418 non-null    object \n 8   Fare         417 non-null    float64\n 9   Cabin        91 non-null     object \n 10  Embarked     418 non-null    object \ndtypes: float64(2), int64(4), object(5)\nmemory usage: 36.0+ KB\nNone\n"
     ]
    }
   ],
   "source": [
    "# display both datasets' datatypes\n",
    "print(train.info())\n",
    "print(test.info())"
   ]
  },
  {
   "source": [
    "As we can see from the information above, most of the columns are populated correctly. However, three columns have missing values: Age, Cabin and Embarked. The Cabin column has the most missing values (~77%) and it seems that this column doesn't provide a lot of additional information as it only contains the code of the cabin each passenger belongs to. \n",
    "\n",
    "Given this, and the high level of missing values, we can safely drop this column from both the train and test datsets"
   ],
   "cell_type": "markdown",
   "metadata": {}
  },
  {
   "cell_type": "code",
   "execution_count": 4,
   "metadata": {},
   "outputs": [],
   "source": [
    "train = train.drop(\"Cabin\", axis=1)\n",
    "test = test.drop(\"Cabin\", axis=1)"
   ]
  },
  {
   "source": [
    "Let's now clean the other two columns of the missing values. The Age column has missing values in both the training and testing datasets. However, the Embarked column only has missing values in the training set. \n",
    "\n",
    "For the Age column, we will potentially look at either the mode or the median of the column, based on the gender of the passengers. For the Embarked column, we will fill it with the mode of the column."
   ],
   "cell_type": "markdown",
   "metadata": {}
  },
  {
   "cell_type": "code",
   "execution_count": 8,
   "metadata": {},
   "outputs": [],
   "source": [
    "# fill the missing values in the Age column using median\n",
    "age_median_train = train.groupby(\"Sex\").median()[\"Age\"]\n",
    "male_median_age_train = age_median_train[\"male\"]\n",
    "female_median_age_train = age_median_train[\"female\"]\n",
    "\n",
    "train[train[\"Sex\"] == \"male\"][\"Age\"].fillna(male_median_age_train, inplace=True)\n",
    "train[train[\"Sex\"] == \"female\"][\"Age\"].fillna(female_median_age_train, inplace=True)\n",
    "\n",
    "age_median_test = test.groupby(\"Sex\").median()[\"Age\"]\n",
    "male_median_age_test = age_median_test[\"male\"]\n",
    "female_median_age_test = age_median_test[\"female\"]\n",
    "\n",
    "test[test[\"Sex\"] == \"male\"][\"Age\"].fillna(male_median_age_test, inplace=True)\n",
    "test[test[\"Sex\"] == \"female\"][\"Age\"].fillna(female_median_age_test, inplace=True)"
   ]
  },
  {
   "cell_type": "code",
   "execution_count": null,
   "metadata": {},
   "outputs": [],
   "source": []
  }
 ]
}